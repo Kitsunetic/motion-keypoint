{
 "cells": [
  {
   "cell_type": "code",
   "execution_count": 1,
   "metadata": {},
   "outputs": [],
   "source": [
    "%load_ext lab_black"
   ]
  },
  {
   "cell_type": "code",
   "execution_count": 114,
   "metadata": {},
   "outputs": [],
   "source": [
    "import math\n",
    "import os\n",
    "import random\n",
    "import shutil\n",
    "import json\n",
    "import logging\n",
    "import sys\n",
    "from collections import defaultdict\n",
    "from datetime import datetime\n",
    "from io import TextIOWrapper\n",
    "from pathlib import Path\n",
    "from typing import Callable, List, Sequence, Tuple\n",
    "\n",
    "import albumentations as A\n",
    "import cv2\n",
    "import imageio\n",
    "import matplotlib.pyplot as plt\n",
    "import numpy as np\n",
    "import pandas as pd\n",
    "import torch\n",
    "import torch.nn as nn\n",
    "import torch.optim as optim\n",
    "from albumentations.pytorch import ToTensorV2\n",
    "from sklearn.model_selection import KFold\n",
    "from torch import nn, optim\n",
    "from torch.optim.lr_scheduler import ReduceLROnPlateau\n",
    "from torch.utils.data import DataLoader, Dataset\n",
    "from torch.utils.tensorboard import SummaryWriter\n",
    "from torchvision.models.detection import fasterrcnn_resnet50_fpn\n",
    "from tqdm import tqdm\n",
    "from PIL import Image\n",
    "\n",
    "import utils\n",
    "import networks"
   ]
  },
  {
   "cell_type": "code",
   "execution_count": 27,
   "metadata": {},
   "outputs": [],
   "source": [
    "MEAN = torch.tensor((0.485, 0.456, 0.406), dtype=torch.float32).reshape(3, 1, 1)\n",
    "STD = torch.tensor((0.229, 0.224, 0.225), dtype=torch.float32).reshape(3, 1, 1)"
   ]
  },
  {
   "cell_type": "code",
   "execution_count": 28,
   "metadata": {},
   "outputs": [],
   "source": [
    "class ImageDataset(Dataset):\n",
    "    def __init__(self, files, keypoints=None, padding=40):\n",
    "        super().__init__()\n",
    "        self.files = files\n",
    "        self.keypoints = keypoints\n",
    "        self.padding = padding\n",
    "\n",
    "    def __len__(self):\n",
    "        return len(self.files)\n",
    "\n",
    "    def __getitem__(self, idx):\n",
    "        f = self.files[idx]\n",
    "        img = imageio.imread(f)\n",
    "        x = img[102:998, 374:1526]\n",
    "        x = torch.tensor(x, dtype=torch.float32).permute(2, 0, 1).div(255.0)\n",
    "        x = (x - MEAN) / STD\n",
    "\n",
    "        return x"
   ]
  },
  {
   "cell_type": "code",
   "execution_count": 29,
   "metadata": {},
   "outputs": [],
   "source": [
    "train_imgs = sorted(list(Path(\"data/ori/train_imgs/\").glob(\"*.jpg\")))\n",
    "test_imgs = sorted(list(Path(\"data/ori/test_imgs/\").glob(\"*.jpg\")))"
   ]
  },
  {
   "cell_type": "code",
   "execution_count": 30,
   "metadata": {},
   "outputs": [],
   "source": [
    "ds_train = ImageDataset(train_imgs)\n",
    "ds_test = ImageDataset(test_imgs)"
   ]
  },
  {
   "cell_type": "code",
   "execution_count": 31,
   "metadata": {},
   "outputs": [],
   "source": [
    "dl_train = DataLoader(ds_train, batch_size=10, num_workers=4, shuffle=False)\n",
    "dl_test = DataLoader(ds_test, batch_size=10, num_workers=4, shuffle=False)"
   ]
  },
  {
   "cell_type": "code",
   "execution_count": 32,
   "metadata": {},
   "outputs": [],
   "source": [
    "model = networks.EfficientDet(\"efficientdet-d7\", pretrained=True)\n",
    "model = model.cuda()\n",
    "model.eval()\n",
    "torch.set_grad_enabled(False)\n",
    "pass"
   ]
  },
  {
   "cell_type": "code",
   "execution_count": 33,
   "metadata": {},
   "outputs": [],
   "source": [
    "dir_train = Path(\"data/box_effdet-d7/train\")\n",
    "dir_test = Path(\"data/box_effdet-d7/test\")\n",
    "dir_train.mkdir(parents=True, exist_ok=True)\n",
    "dir_test.mkdir(parents=True, exist_ok=True)"
   ]
  },
  {
   "cell_type": "code",
   "execution_count": null,
   "metadata": {},
   "outputs": [
    {
     "name": "stdout",
     "output_type": "stream",
     "text": [
      " 37%|█████████████████████▋                                     | 1539/4195 [02:57<03:58, 11.12it/s]"
     ]
    }
   ],
   "source": [
    "i = 0\n",
    "with tqdm(total=len(dl_train.dataset), ncols=100, file=sys.stdout) as t:\n",
    "    for xs in dl_train:\n",
    "        xs_ = xs.cuda()\n",
    "        outs_ = model(xs_)\n",
    "        for x, p in zip(xs, outs_):\n",
    "            box = p[\"rois\"][p[\"class_ids\"] == 0][p[\"scores\"][p[\"class_ids\"] == 0].argmax()].astype(np.int64).tolist()\n",
    "            out = ((x * STD + MEAN) * 255.).permute(1,2,0).type(torch.uint8).numpy()\n",
    "            out = np.array(Image.fromarray(out))\n",
    "            out = cv2.rectangle(out, (box[0], box[1]), (box[2], box[3]), (255, 0,0), 2)\n",
    "            imageio.imwrite(dir_train/train_imgs[i].name, out)\n",
    "            \n",
    "            i += 1\n",
    "            t.update()"
   ]
  },
  {
   "cell_type": "code",
   "execution_count": null,
   "metadata": {},
   "outputs": [],
   "source": []
  }
 ],
 "metadata": {
  "kernelspec": {
   "display_name": "torch",
   "language": "python",
   "name": "torch"
  },
  "language_info": {
   "codemirror_mode": {
    "name": "ipython",
    "version": 3
   },
   "file_extension": ".py",
   "mimetype": "text/x-python",
   "name": "python",
   "nbconvert_exporter": "python",
   "pygments_lexer": "ipython3",
   "version": "3.7.9"
  }
 },
 "nbformat": 4,
 "nbformat_minor": 4
}
