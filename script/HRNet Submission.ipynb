{
 "cells": [
  {
   "cell_type": "code",
   "execution_count": 1,
   "id": "technical-pierre",
   "metadata": {},
   "outputs": [],
   "source": [
    "%load_ext lab_black"
   ]
  },
  {
   "cell_type": "code",
   "execution_count": 2,
   "id": "basic-democrat",
   "metadata": {},
   "outputs": [
    {
     "name": "stdout",
     "output_type": "stream",
     "text": [
      "/home/shim/shim/dev/motion-keypoint\n"
     ]
    }
   ],
   "source": [
    "%cd .."
   ]
  },
  {
   "cell_type": "code",
   "execution_count": 3,
   "id": "appreciated-assurance",
   "metadata": {},
   "outputs": [],
   "source": [
    "import argparse\n",
    "import json\n",
    "import math\n",
    "import sys\n",
    "\n",
    "import numpy as np\n",
    "import pandas as pd\n",
    "import torch\n",
    "import torch.nn.functional as F\n",
    "import torch.optim as optim\n",
    "from sklearn.model_selection import KFold\n",
    "from torch import nn, optim\n",
    "from torch.optim.lr_scheduler import ReduceLROnPlateau\n",
    "from torch.utils.data import DataLoader\n",
    "from tqdm import tqdm\n",
    "\n",
    "import networks\n",
    "import options\n",
    "import utils\n",
    "from datasets import KeypointDataset, TestKeypointDataset, get_pose_datasets\n",
    "from error_list import error_list\n",
    "from losses import JointMSELoss, KeypointLoss, KeypointRMSE"
   ]
  },
  {
   "cell_type": "markdown",
   "id": "surgical-brain",
   "metadata": {},
   "source": [
    "---\n",
    "\n",
    "## 하이퍼 파라미터"
   ]
  },
  {
   "cell_type": "code",
   "execution_count": 4,
   "id": "administrative-combination",
   "metadata": {},
   "outputs": [
    {
     "name": "stdout",
     "output_type": "stream",
     "text": [
      "\u001b[34m[2021-03-23 10:44:47  INFO] 학습 시작\u001b[0m\n",
      "\u001b[34m[2021-03-23 10:44:47  INFO] pose_model: HRNet-W48\u001b[0m\n",
      "\u001b[34m[2021-03-23 10:44:47  INFO] result_dir: results/hrnet-train\u001b[0m\n",
      "\u001b[34m[2021-03-23 10:44:47  INFO] data_dir: data/ori\u001b[0m\n",
      "\u001b[34m[2021-03-23 10:44:47  INFO] lr: 0.0001\u001b[0m\n",
      "\u001b[34m[2021-03-23 10:44:47  INFO] batch_size: 10\u001b[0m\n",
      "\u001b[34m[2021-03-23 10:44:47  INFO] start_epoch: 1\u001b[0m\n",
      "\u001b[34m[2021-03-23 10:44:47  INFO] SAM: False\u001b[0m\n",
      "\u001b[34m[2021-03-23 10:44:47  INFO] folds: [1, 2, 3, 4, 5]\u001b[0m\n",
      "\u001b[34m[2021-03-23 10:44:47  INFO] checkpoints: [None, None, None, None, None]\u001b[0m\n",
      "\u001b[34m[2021-03-23 10:44:47  INFO] padding: 20\u001b[0m\n",
      "\u001b[34m[2021-03-23 10:44:47  INFO] add_joint_loss: False\u001b[0m\n",
      "\u001b[34m[2021-03-23 10:44:47  INFO] debug: False\u001b[0m\n",
      "\u001b[34m[2021-03-23 10:44:47  INFO] step1_epoch: 5\u001b[0m\n",
      "\u001b[34m[2021-03-23 10:44:47  INFO] step2_epoch: 10\u001b[0m\n",
      "\u001b[34m[2021-03-23 10:44:47  INFO] step3_epoch: 100\u001b[0m\n",
      "\u001b[34m[2021-03-23 10:44:47  INFO] input_width: 576\u001b[0m\n",
      "\u001b[34m[2021-03-23 10:44:47  INFO] input_height: 768\u001b[0m\n",
      "\u001b[34m[2021-03-23 10:44:47  INFO] uid: HRNet_W48\u001b[0m\n",
      "\u001b[34m[2021-03-23 10:44:47  INFO] seed: 20210309\u001b[0m\n",
      "\u001b[34m[2021-03-23 10:44:47  INFO] inference: True\u001b[0m\n"
     ]
    }
   ],
   "source": [
    "config = options.load_config(\"config/hrnet-w48-inference.yaml\")"
   ]
  },
  {
   "cell_type": "markdown",
   "id": "acting-license",
   "metadata": {},
   "source": [
    "---\n",
    "\n",
    "## 데이터셋 준비"
   ]
  },
  {
   "cell_type": "code",
   "execution_count": 5,
   "id": "floating-karma",
   "metadata": {},
   "outputs": [],
   "source": [
    "dl_train, dl_valid, dl_test = get_pose_datasets(config, 1)"
   ]
  },
  {
   "cell_type": "markdown",
   "id": "stuck-forge",
   "metadata": {},
   "source": [
    "---\n",
    "\n",
    "## 모델, 데이터셋 생성"
   ]
  },
  {
   "cell_type": "code",
   "execution_count": 6,
   "id": "direct-transsexual",
   "metadata": {},
   "outputs": [],
   "source": [
    "import importlib"
   ]
  },
  {
   "cell_type": "code",
   "execution_count": 7,
   "id": "impossible-inclusion",
   "metadata": {},
   "outputs": [],
   "source": [
    "main = importlib.import_module(\"main-hrnet-train\")"
   ]
  },
  {
   "cell_type": "code",
   "execution_count": 8,
   "id": "dressed-opening",
   "metadata": {},
   "outputs": [
    {
     "name": "stdout",
     "output_type": "stream",
     "text": [
      "Load pretrained results/hrnet-train/ckpt-HRNet_W48_1.pth\n"
     ]
    }
   ],
   "source": [
    "trainer = main.PoseTrainer(config, 1, \"results/hrnet-train/ckpt-HRNet_W48_1.pth\")"
   ]
  },
  {
   "cell_type": "markdown",
   "id": "lightweight-agriculture",
   "metadata": {},
   "source": [
    "---\n",
    "\n",
    "## 검증"
   ]
  },
  {
   "cell_type": "markdown",
   "id": "nominated-mounting",
   "metadata": {},
   "source": [
    "### Validation에서 1epoch 돌려보기"
   ]
  },
  {
   "cell_type": "code",
   "execution_count": 9,
   "id": "banned-offense",
   "metadata": {},
   "outputs": [
    {
     "name": "stdout",
     "output_type": "stream",
     "text": [
      "100%|█████████████████████████████| 819/819 [01:03<00:00, 12.85it/s, loss: 1.867542, rmse: 3.408305]\n"
     ]
    },
    {
     "data": {
      "text/plain": [
       "(3.4107230334747127, 10.64324868306881)"
      ]
     },
     "execution_count": 9,
     "metadata": {},
     "output_type": "execute_result"
    }
   ],
   "source": [
    "trainer.evaluate(trainer.dl_valid, \"results/hrnet-example/valid_1\")"
   ]
  },
  {
   "cell_type": "code",
   "execution_count": null,
   "id": "composed-easter",
   "metadata": {},
   "outputs": [],
   "source": []
  }
 ],
 "metadata": {
  "kernelspec": {
   "display_name": "Python 3",
   "language": "python",
   "name": "python3"
  },
  "language_info": {
   "codemirror_mode": {
    "name": "ipython",
    "version": 3
   },
   "file_extension": ".py",
   "mimetype": "text/x-python",
   "name": "python",
   "nbconvert_exporter": "python",
   "pygments_lexer": "ipython3",
   "version": "3.7.10"
  }
 },
 "nbformat": 4,
 "nbformat_minor": 5
}
