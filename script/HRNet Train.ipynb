{
 "cells": [
  {
   "cell_type": "code",
   "execution_count": 1,
   "metadata": {},
   "outputs": [],
   "source": [
    "%load_ext lab_black"
   ]
  },
  {
   "cell_type": "code",
   "execution_count": 2,
   "metadata": {},
   "outputs": [
    {
     "name": "stdout",
     "output_type": "stream",
     "text": [
      "/home/shim/cev/dl/motion-keypoint\n"
     ]
    }
   ],
   "source": [
    "%cd .."
   ]
  },
  {
   "cell_type": "code",
   "execution_count": 3,
   "metadata": {},
   "outputs": [],
   "source": [
    "import argparse\n",
    "import json\n",
    "import math\n",
    "import sys\n",
    "\n",
    "import numpy as np\n",
    "import pandas as pd\n",
    "import torch\n",
    "import torch.nn.functional as F\n",
    "import torch.optim as optim\n",
    "from sklearn.model_selection import KFold\n",
    "from torch import nn, optim\n",
    "from torch.optim.lr_scheduler import ReduceLROnPlateau\n",
    "from torch.utils.data import DataLoader\n",
    "from tqdm import tqdm\n",
    "\n",
    "import networks\n",
    "import options\n",
    "import utils\n",
    "from datasets import KeypointDataset, TestKeypointDataset, get_pose_datasets\n",
    "from error_list import error_list\n",
    "from losses import JointMSELoss, KeypointLoss, KeypointRMSE"
   ]
  },
  {
   "cell_type": "markdown",
   "metadata": {},
   "source": [
    "---\n",
    "\n",
    "## 하이퍼 파라미터"
   ]
  },
  {
   "cell_type": "code",
   "execution_count": 4,
   "metadata": {},
   "outputs": [
    {
     "name": "stdout",
     "output_type": "stream",
     "text": [
      "\u001b[34m[2021-03-23 10:17:33  INFO] 학습 시작\u001b[0m\n",
      "\u001b[34m[2021-03-23 10:17:33  INFO] pose_model: HRNet-W48\u001b[0m\n",
      "\u001b[34m[2021-03-23 10:17:33  INFO] result_dir: results/hrnet-train\u001b[0m\n",
      "\u001b[34m[2021-03-23 10:17:33  INFO] data_dir: data/ori\u001b[0m\n",
      "\u001b[34m[2021-03-23 10:17:33  INFO] lr: 0.0001\u001b[0m\n",
      "\u001b[34m[2021-03-23 10:17:33  INFO] batch_size: 10\u001b[0m\n",
      "\u001b[34m[2021-03-23 10:17:33  INFO] start_epoch: 1\u001b[0m\n",
      "\u001b[34m[2021-03-23 10:17:33  INFO] SAM: False\u001b[0m\n",
      "\u001b[34m[2021-03-23 10:17:33  INFO] folds: [1, 2, 3, 4, 5]\u001b[0m\n",
      "\u001b[34m[2021-03-23 10:17:33  INFO] checkpoints: [None, None, None, None, None]\u001b[0m\n",
      "\u001b[34m[2021-03-23 10:17:33  INFO] padding: 20\u001b[0m\n",
      "\u001b[34m[2021-03-23 10:17:33  INFO] add_joint_loss: False\u001b[0m\n",
      "\u001b[34m[2021-03-23 10:17:33  INFO] debug: False\u001b[0m\n",
      "\u001b[34m[2021-03-23 10:17:33  INFO] step1_epoch: 5\u001b[0m\n",
      "\u001b[34m[2021-03-23 10:17:33  INFO] step2_epoch: 10\u001b[0m\n",
      "\u001b[34m[2021-03-23 10:17:33  INFO] step3_epoch: 100\u001b[0m\n",
      "\u001b[34m[2021-03-23 10:17:33  INFO] input_width: 576\u001b[0m\n",
      "\u001b[34m[2021-03-23 10:17:33  INFO] input_height: 768\u001b[0m\n",
      "\u001b[34m[2021-03-23 10:17:33  INFO] uid: HRNet_W48\u001b[0m\n",
      "\u001b[34m[2021-03-23 10:17:33  INFO] seed: 20210309\u001b[0m\n",
      "\u001b[34m[2021-03-23 10:17:33  INFO] inference: True\u001b[0m\n"
     ]
    }
   ],
   "source": [
    "config = options.load_config(\"config/hrnet-w48-inference.yaml\")"
   ]
  },
  {
   "cell_type": "markdown",
   "metadata": {},
   "source": [
    "---\n",
    "\n",
    "## 데이터셋 준비"
   ]
  },
  {
   "cell_type": "code",
   "execution_count": 5,
   "metadata": {},
   "outputs": [],
   "source": [
    "dl_train, dl_valid, dl_test = get_pose_datasets(config, 1)"
   ]
  },
  {
   "cell_type": "markdown",
   "metadata": {},
   "source": [
    "---\n",
    "\n",
    "## 모델, 데이터셋 생성"
   ]
  },
  {
   "cell_type": "code",
   "execution_count": 6,
   "metadata": {},
   "outputs": [],
   "source": [
    "import importlib"
   ]
  },
  {
   "cell_type": "code",
   "execution_count": 7,
   "metadata": {},
   "outputs": [],
   "source": [
    "main = importlib.import_module(\"main-hrnet-train\")"
   ]
  },
  {
   "cell_type": "code",
   "execution_count": 8,
   "metadata": {},
   "outputs": [
    {
     "name": "stdout",
     "output_type": "stream",
     "text": [
      "Load pretrained results/hrnet-train/ckpt-HRNet_W48_1.pth\n"
     ]
    },
    {
     "ename": "RuntimeError",
     "evalue": "CUDA out of memory. Tried to allocate 20.00 MiB (GPU 0; 23.70 GiB total capacity; 1.16 GiB already allocated; 15.81 MiB free; 1.23 GiB reserved in total by PyTorch)",
     "output_type": "error",
     "traceback": [
      "\u001b[0;31m---------------------------------------------------------------------------\u001b[0m",
      "\u001b[0;31mRuntimeError\u001b[0m                              Traceback (most recent call last)",
      "\u001b[0;32m<ipython-input-8-e225a8bc9952>\u001b[0m in \u001b[0;36m<module>\u001b[0;34m\u001b[0m\n\u001b[0;32m----> 1\u001b[0;31m \u001b[0mtrainer\u001b[0m \u001b[0;34m=\u001b[0m \u001b[0mmain\u001b[0m\u001b[0;34m.\u001b[0m\u001b[0mPoseTrainer\u001b[0m\u001b[0;34m(\u001b[0m\u001b[0mconfig\u001b[0m\u001b[0;34m,\u001b[0m \u001b[0;36m1\u001b[0m\u001b[0;34m,\u001b[0m \u001b[0;34m\"results/hrnet-train/ckpt-HRNet_W48_1.pth\"\u001b[0m\u001b[0;34m)\u001b[0m\u001b[0;34m\u001b[0m\u001b[0;34m\u001b[0m\u001b[0m\n\u001b[0m",
      "\u001b[0;32m~/cev/dl/motion-keypoint/main-hrnet-train.py\u001b[0m in \u001b[0;36m__init__\u001b[0;34m(self, config, fold, checkpoint)\u001b[0m\n\u001b[1;32m     68\u001b[0m         \u001b[0;31m# Load Checkpoint\u001b[0m\u001b[0;34m\u001b[0m\u001b[0;34m\u001b[0m\u001b[0;34m\u001b[0m\u001b[0m\n\u001b[1;32m     69\u001b[0m         \u001b[0;32mif\u001b[0m \u001b[0mcheckpoint\u001b[0m \u001b[0;32mis\u001b[0m \u001b[0;32mnot\u001b[0m \u001b[0;32mNone\u001b[0m\u001b[0;34m:\u001b[0m\u001b[0;34m\u001b[0m\u001b[0;34m\u001b[0m\u001b[0m\n\u001b[0;32m---> 70\u001b[0;31m             \u001b[0mself\u001b[0m\u001b[0;34m.\u001b[0m\u001b[0mload\u001b[0m\u001b[0;34m(\u001b[0m\u001b[0mcheckpoint\u001b[0m\u001b[0;34m)\u001b[0m\u001b[0;34m\u001b[0m\u001b[0;34m\u001b[0m\u001b[0m\n\u001b[0m\u001b[1;32m     71\u001b[0m \u001b[0;34m\u001b[0m\u001b[0m\n\u001b[1;32m     72\u001b[0m     \u001b[0;32mdef\u001b[0m \u001b[0msave\u001b[0m\u001b[0;34m(\u001b[0m\u001b[0mself\u001b[0m\u001b[0;34m,\u001b[0m \u001b[0mpath\u001b[0m\u001b[0;34m)\u001b[0m\u001b[0;34m:\u001b[0m\u001b[0;34m\u001b[0m\u001b[0;34m\u001b[0m\u001b[0m\n",
      "\u001b[0;32m~/cev/dl/motion-keypoint/main-hrnet-train.py\u001b[0m in \u001b[0;36mload\u001b[0;34m(self, path)\u001b[0m\n\u001b[1;32m     86\u001b[0m         \u001b[0mckpt\u001b[0m \u001b[0;34m=\u001b[0m \u001b[0mtorch\u001b[0m\u001b[0;34m.\u001b[0m\u001b[0mload\u001b[0m\u001b[0;34m(\u001b[0m\u001b[0mpath\u001b[0m\u001b[0;34m)\u001b[0m\u001b[0;34m\u001b[0m\u001b[0;34m\u001b[0m\u001b[0m\n\u001b[1;32m     87\u001b[0m         \u001b[0mself\u001b[0m\u001b[0;34m.\u001b[0m\u001b[0mpose_model\u001b[0m\u001b[0;34m.\u001b[0m\u001b[0mload_state_dict\u001b[0m\u001b[0;34m(\u001b[0m\u001b[0mckpt\u001b[0m\u001b[0;34m[\u001b[0m\u001b[0;34m\"model\"\u001b[0m\u001b[0;34m]\u001b[0m\u001b[0;34m)\u001b[0m\u001b[0;34m\u001b[0m\u001b[0;34m\u001b[0m\u001b[0m\n\u001b[0;32m---> 88\u001b[0;31m         \u001b[0mself\u001b[0m\u001b[0;34m.\u001b[0m\u001b[0moptimizer\u001b[0m\u001b[0;34m.\u001b[0m\u001b[0mload_state_dict\u001b[0m\u001b[0;34m(\u001b[0m\u001b[0mckpt\u001b[0m\u001b[0;34m[\u001b[0m\u001b[0;34m\"optimizer\"\u001b[0m\u001b[0;34m]\u001b[0m\u001b[0;34m)\u001b[0m\u001b[0;34m\u001b[0m\u001b[0;34m\u001b[0m\u001b[0m\n\u001b[0m\u001b[1;32m     89\u001b[0m         \u001b[0mself\u001b[0m\u001b[0;34m.\u001b[0m\u001b[0mepoch\u001b[0m \u001b[0;34m=\u001b[0m \u001b[0mckpt\u001b[0m\u001b[0;34m[\u001b[0m\u001b[0;34m\"epoch\"\u001b[0m\u001b[0;34m]\u001b[0m\u001b[0;34m\u001b[0m\u001b[0;34m\u001b[0m\u001b[0m\n\u001b[1;32m     90\u001b[0m         \u001b[0mself\u001b[0m\u001b[0;34m.\u001b[0m\u001b[0mbest_loss\u001b[0m \u001b[0;34m=\u001b[0m \u001b[0mckpt\u001b[0m\u001b[0;34m[\u001b[0m\u001b[0;34m\"best_loss\"\u001b[0m\u001b[0;34m]\u001b[0m\u001b[0;34m\u001b[0m\u001b[0;34m\u001b[0m\u001b[0m\n",
      "\u001b[0;32m~/anaconda3/envs/torch/lib/python3.7/site-packages/torch/optim/optimizer.py\u001b[0m in \u001b[0;36mload_state_dict\u001b[0;34m(self, state_dict)\u001b[0m\n\u001b[1;32m    111\u001b[0m         \"\"\"\n\u001b[1;32m    112\u001b[0m         \u001b[0;31m# deepcopy, to be consistent with module API\u001b[0m\u001b[0;34m\u001b[0m\u001b[0;34m\u001b[0m\u001b[0;34m\u001b[0m\u001b[0m\n\u001b[0;32m--> 113\u001b[0;31m         \u001b[0mstate_dict\u001b[0m \u001b[0;34m=\u001b[0m \u001b[0mdeepcopy\u001b[0m\u001b[0;34m(\u001b[0m\u001b[0mstate_dict\u001b[0m\u001b[0;34m)\u001b[0m\u001b[0;34m\u001b[0m\u001b[0;34m\u001b[0m\u001b[0m\n\u001b[0m\u001b[1;32m    114\u001b[0m         \u001b[0;31m# Validate the state_dict\u001b[0m\u001b[0;34m\u001b[0m\u001b[0;34m\u001b[0m\u001b[0;34m\u001b[0m\u001b[0m\n\u001b[1;32m    115\u001b[0m         \u001b[0mgroups\u001b[0m \u001b[0;34m=\u001b[0m \u001b[0mself\u001b[0m\u001b[0;34m.\u001b[0m\u001b[0mparam_groups\u001b[0m\u001b[0;34m\u001b[0m\u001b[0;34m\u001b[0m\u001b[0m\n",
      "\u001b[0;32m~/anaconda3/envs/torch/lib/python3.7/copy.py\u001b[0m in \u001b[0;36mdeepcopy\u001b[0;34m(x, memo, _nil)\u001b[0m\n\u001b[1;32m    148\u001b[0m     \u001b[0mcopier\u001b[0m \u001b[0;34m=\u001b[0m \u001b[0m_deepcopy_dispatch\u001b[0m\u001b[0;34m.\u001b[0m\u001b[0mget\u001b[0m\u001b[0;34m(\u001b[0m\u001b[0mcls\u001b[0m\u001b[0;34m)\u001b[0m\u001b[0;34m\u001b[0m\u001b[0;34m\u001b[0m\u001b[0m\n\u001b[1;32m    149\u001b[0m     \u001b[0;32mif\u001b[0m \u001b[0mcopier\u001b[0m\u001b[0;34m:\u001b[0m\u001b[0;34m\u001b[0m\u001b[0;34m\u001b[0m\u001b[0m\n\u001b[0;32m--> 150\u001b[0;31m         \u001b[0my\u001b[0m \u001b[0;34m=\u001b[0m \u001b[0mcopier\u001b[0m\u001b[0;34m(\u001b[0m\u001b[0mx\u001b[0m\u001b[0;34m,\u001b[0m \u001b[0mmemo\u001b[0m\u001b[0;34m)\u001b[0m\u001b[0;34m\u001b[0m\u001b[0;34m\u001b[0m\u001b[0m\n\u001b[0m\u001b[1;32m    151\u001b[0m     \u001b[0;32melse\u001b[0m\u001b[0;34m:\u001b[0m\u001b[0;34m\u001b[0m\u001b[0;34m\u001b[0m\u001b[0m\n\u001b[1;32m    152\u001b[0m         \u001b[0;32mtry\u001b[0m\u001b[0;34m:\u001b[0m\u001b[0;34m\u001b[0m\u001b[0;34m\u001b[0m\u001b[0m\n",
      "\u001b[0;32m~/anaconda3/envs/torch/lib/python3.7/copy.py\u001b[0m in \u001b[0;36m_deepcopy_dict\u001b[0;34m(x, memo, deepcopy)\u001b[0m\n\u001b[1;32m    239\u001b[0m     \u001b[0mmemo\u001b[0m\u001b[0;34m[\u001b[0m\u001b[0mid\u001b[0m\u001b[0;34m(\u001b[0m\u001b[0mx\u001b[0m\u001b[0;34m)\u001b[0m\u001b[0;34m]\u001b[0m \u001b[0;34m=\u001b[0m \u001b[0my\u001b[0m\u001b[0;34m\u001b[0m\u001b[0;34m\u001b[0m\u001b[0m\n\u001b[1;32m    240\u001b[0m     \u001b[0;32mfor\u001b[0m \u001b[0mkey\u001b[0m\u001b[0;34m,\u001b[0m \u001b[0mvalue\u001b[0m \u001b[0;32min\u001b[0m \u001b[0mx\u001b[0m\u001b[0;34m.\u001b[0m\u001b[0mitems\u001b[0m\u001b[0;34m(\u001b[0m\u001b[0;34m)\u001b[0m\u001b[0;34m:\u001b[0m\u001b[0;34m\u001b[0m\u001b[0;34m\u001b[0m\u001b[0m\n\u001b[0;32m--> 241\u001b[0;31m         \u001b[0my\u001b[0m\u001b[0;34m[\u001b[0m\u001b[0mdeepcopy\u001b[0m\u001b[0;34m(\u001b[0m\u001b[0mkey\u001b[0m\u001b[0;34m,\u001b[0m \u001b[0mmemo\u001b[0m\u001b[0;34m)\u001b[0m\u001b[0;34m]\u001b[0m \u001b[0;34m=\u001b[0m \u001b[0mdeepcopy\u001b[0m\u001b[0;34m(\u001b[0m\u001b[0mvalue\u001b[0m\u001b[0;34m,\u001b[0m \u001b[0mmemo\u001b[0m\u001b[0;34m)\u001b[0m\u001b[0;34m\u001b[0m\u001b[0;34m\u001b[0m\u001b[0m\n\u001b[0m\u001b[1;32m    242\u001b[0m     \u001b[0;32mreturn\u001b[0m \u001b[0my\u001b[0m\u001b[0;34m\u001b[0m\u001b[0;34m\u001b[0m\u001b[0m\n\u001b[1;32m    243\u001b[0m \u001b[0md\u001b[0m\u001b[0;34m[\u001b[0m\u001b[0mdict\u001b[0m\u001b[0;34m]\u001b[0m \u001b[0;34m=\u001b[0m \u001b[0m_deepcopy_dict\u001b[0m\u001b[0;34m\u001b[0m\u001b[0;34m\u001b[0m\u001b[0m\n",
      "\u001b[0;32m~/anaconda3/envs/torch/lib/python3.7/copy.py\u001b[0m in \u001b[0;36mdeepcopy\u001b[0;34m(x, memo, _nil)\u001b[0m\n\u001b[1;32m    148\u001b[0m     \u001b[0mcopier\u001b[0m \u001b[0;34m=\u001b[0m \u001b[0m_deepcopy_dispatch\u001b[0m\u001b[0;34m.\u001b[0m\u001b[0mget\u001b[0m\u001b[0;34m(\u001b[0m\u001b[0mcls\u001b[0m\u001b[0;34m)\u001b[0m\u001b[0;34m\u001b[0m\u001b[0;34m\u001b[0m\u001b[0m\n\u001b[1;32m    149\u001b[0m     \u001b[0;32mif\u001b[0m \u001b[0mcopier\u001b[0m\u001b[0;34m:\u001b[0m\u001b[0;34m\u001b[0m\u001b[0;34m\u001b[0m\u001b[0m\n\u001b[0;32m--> 150\u001b[0;31m         \u001b[0my\u001b[0m \u001b[0;34m=\u001b[0m \u001b[0mcopier\u001b[0m\u001b[0;34m(\u001b[0m\u001b[0mx\u001b[0m\u001b[0;34m,\u001b[0m \u001b[0mmemo\u001b[0m\u001b[0;34m)\u001b[0m\u001b[0;34m\u001b[0m\u001b[0;34m\u001b[0m\u001b[0m\n\u001b[0m\u001b[1;32m    151\u001b[0m     \u001b[0;32melse\u001b[0m\u001b[0;34m:\u001b[0m\u001b[0;34m\u001b[0m\u001b[0;34m\u001b[0m\u001b[0m\n\u001b[1;32m    152\u001b[0m         \u001b[0;32mtry\u001b[0m\u001b[0;34m:\u001b[0m\u001b[0;34m\u001b[0m\u001b[0;34m\u001b[0m\u001b[0m\n",
      "\u001b[0;32m~/anaconda3/envs/torch/lib/python3.7/copy.py\u001b[0m in \u001b[0;36m_deepcopy_dict\u001b[0;34m(x, memo, deepcopy)\u001b[0m\n\u001b[1;32m    239\u001b[0m     \u001b[0mmemo\u001b[0m\u001b[0;34m[\u001b[0m\u001b[0mid\u001b[0m\u001b[0;34m(\u001b[0m\u001b[0mx\u001b[0m\u001b[0;34m)\u001b[0m\u001b[0;34m]\u001b[0m \u001b[0;34m=\u001b[0m \u001b[0my\u001b[0m\u001b[0;34m\u001b[0m\u001b[0;34m\u001b[0m\u001b[0m\n\u001b[1;32m    240\u001b[0m     \u001b[0;32mfor\u001b[0m \u001b[0mkey\u001b[0m\u001b[0;34m,\u001b[0m \u001b[0mvalue\u001b[0m \u001b[0;32min\u001b[0m \u001b[0mx\u001b[0m\u001b[0;34m.\u001b[0m\u001b[0mitems\u001b[0m\u001b[0;34m(\u001b[0m\u001b[0;34m)\u001b[0m\u001b[0;34m:\u001b[0m\u001b[0;34m\u001b[0m\u001b[0;34m\u001b[0m\u001b[0m\n\u001b[0;32m--> 241\u001b[0;31m         \u001b[0my\u001b[0m\u001b[0;34m[\u001b[0m\u001b[0mdeepcopy\u001b[0m\u001b[0;34m(\u001b[0m\u001b[0mkey\u001b[0m\u001b[0;34m,\u001b[0m \u001b[0mmemo\u001b[0m\u001b[0;34m)\u001b[0m\u001b[0;34m]\u001b[0m \u001b[0;34m=\u001b[0m \u001b[0mdeepcopy\u001b[0m\u001b[0;34m(\u001b[0m\u001b[0mvalue\u001b[0m\u001b[0;34m,\u001b[0m \u001b[0mmemo\u001b[0m\u001b[0;34m)\u001b[0m\u001b[0;34m\u001b[0m\u001b[0;34m\u001b[0m\u001b[0m\n\u001b[0m\u001b[1;32m    242\u001b[0m     \u001b[0;32mreturn\u001b[0m \u001b[0my\u001b[0m\u001b[0;34m\u001b[0m\u001b[0;34m\u001b[0m\u001b[0m\n\u001b[1;32m    243\u001b[0m \u001b[0md\u001b[0m\u001b[0;34m[\u001b[0m\u001b[0mdict\u001b[0m\u001b[0;34m]\u001b[0m \u001b[0;34m=\u001b[0m \u001b[0m_deepcopy_dict\u001b[0m\u001b[0;34m\u001b[0m\u001b[0;34m\u001b[0m\u001b[0m\n",
      "\u001b[0;32m~/anaconda3/envs/torch/lib/python3.7/copy.py\u001b[0m in \u001b[0;36mdeepcopy\u001b[0;34m(x, memo, _nil)\u001b[0m\n\u001b[1;32m    148\u001b[0m     \u001b[0mcopier\u001b[0m \u001b[0;34m=\u001b[0m \u001b[0m_deepcopy_dispatch\u001b[0m\u001b[0;34m.\u001b[0m\u001b[0mget\u001b[0m\u001b[0;34m(\u001b[0m\u001b[0mcls\u001b[0m\u001b[0;34m)\u001b[0m\u001b[0;34m\u001b[0m\u001b[0;34m\u001b[0m\u001b[0m\n\u001b[1;32m    149\u001b[0m     \u001b[0;32mif\u001b[0m \u001b[0mcopier\u001b[0m\u001b[0;34m:\u001b[0m\u001b[0;34m\u001b[0m\u001b[0;34m\u001b[0m\u001b[0m\n\u001b[0;32m--> 150\u001b[0;31m         \u001b[0my\u001b[0m \u001b[0;34m=\u001b[0m \u001b[0mcopier\u001b[0m\u001b[0;34m(\u001b[0m\u001b[0mx\u001b[0m\u001b[0;34m,\u001b[0m \u001b[0mmemo\u001b[0m\u001b[0;34m)\u001b[0m\u001b[0;34m\u001b[0m\u001b[0;34m\u001b[0m\u001b[0m\n\u001b[0m\u001b[1;32m    151\u001b[0m     \u001b[0;32melse\u001b[0m\u001b[0;34m:\u001b[0m\u001b[0;34m\u001b[0m\u001b[0;34m\u001b[0m\u001b[0m\n\u001b[1;32m    152\u001b[0m         \u001b[0;32mtry\u001b[0m\u001b[0;34m:\u001b[0m\u001b[0;34m\u001b[0m\u001b[0;34m\u001b[0m\u001b[0m\n",
      "\u001b[0;32m~/anaconda3/envs/torch/lib/python3.7/copy.py\u001b[0m in \u001b[0;36m_deepcopy_dict\u001b[0;34m(x, memo, deepcopy)\u001b[0m\n\u001b[1;32m    239\u001b[0m     \u001b[0mmemo\u001b[0m\u001b[0;34m[\u001b[0m\u001b[0mid\u001b[0m\u001b[0;34m(\u001b[0m\u001b[0mx\u001b[0m\u001b[0;34m)\u001b[0m\u001b[0;34m]\u001b[0m \u001b[0;34m=\u001b[0m \u001b[0my\u001b[0m\u001b[0;34m\u001b[0m\u001b[0;34m\u001b[0m\u001b[0m\n\u001b[1;32m    240\u001b[0m     \u001b[0;32mfor\u001b[0m \u001b[0mkey\u001b[0m\u001b[0;34m,\u001b[0m \u001b[0mvalue\u001b[0m \u001b[0;32min\u001b[0m \u001b[0mx\u001b[0m\u001b[0;34m.\u001b[0m\u001b[0mitems\u001b[0m\u001b[0;34m(\u001b[0m\u001b[0;34m)\u001b[0m\u001b[0;34m:\u001b[0m\u001b[0;34m\u001b[0m\u001b[0;34m\u001b[0m\u001b[0m\n\u001b[0;32m--> 241\u001b[0;31m         \u001b[0my\u001b[0m\u001b[0;34m[\u001b[0m\u001b[0mdeepcopy\u001b[0m\u001b[0;34m(\u001b[0m\u001b[0mkey\u001b[0m\u001b[0;34m,\u001b[0m \u001b[0mmemo\u001b[0m\u001b[0;34m)\u001b[0m\u001b[0;34m]\u001b[0m \u001b[0;34m=\u001b[0m \u001b[0mdeepcopy\u001b[0m\u001b[0;34m(\u001b[0m\u001b[0mvalue\u001b[0m\u001b[0;34m,\u001b[0m \u001b[0mmemo\u001b[0m\u001b[0;34m)\u001b[0m\u001b[0;34m\u001b[0m\u001b[0;34m\u001b[0m\u001b[0m\n\u001b[0m\u001b[1;32m    242\u001b[0m     \u001b[0;32mreturn\u001b[0m \u001b[0my\u001b[0m\u001b[0;34m\u001b[0m\u001b[0;34m\u001b[0m\u001b[0m\n\u001b[1;32m    243\u001b[0m \u001b[0md\u001b[0m\u001b[0;34m[\u001b[0m\u001b[0mdict\u001b[0m\u001b[0;34m]\u001b[0m \u001b[0;34m=\u001b[0m \u001b[0m_deepcopy_dict\u001b[0m\u001b[0;34m\u001b[0m\u001b[0;34m\u001b[0m\u001b[0m\n",
      "\u001b[0;32m~/anaconda3/envs/torch/lib/python3.7/copy.py\u001b[0m in \u001b[0;36mdeepcopy\u001b[0;34m(x, memo, _nil)\u001b[0m\n\u001b[1;32m    159\u001b[0m             \u001b[0mcopier\u001b[0m \u001b[0;34m=\u001b[0m \u001b[0mgetattr\u001b[0m\u001b[0;34m(\u001b[0m\u001b[0mx\u001b[0m\u001b[0;34m,\u001b[0m \u001b[0;34m\"__deepcopy__\"\u001b[0m\u001b[0;34m,\u001b[0m \u001b[0;32mNone\u001b[0m\u001b[0;34m)\u001b[0m\u001b[0;34m\u001b[0m\u001b[0;34m\u001b[0m\u001b[0m\n\u001b[1;32m    160\u001b[0m             \u001b[0;32mif\u001b[0m \u001b[0mcopier\u001b[0m\u001b[0;34m:\u001b[0m\u001b[0;34m\u001b[0m\u001b[0;34m\u001b[0m\u001b[0m\n\u001b[0;32m--> 161\u001b[0;31m                 \u001b[0my\u001b[0m \u001b[0;34m=\u001b[0m \u001b[0mcopier\u001b[0m\u001b[0;34m(\u001b[0m\u001b[0mmemo\u001b[0m\u001b[0;34m)\u001b[0m\u001b[0;34m\u001b[0m\u001b[0;34m\u001b[0m\u001b[0m\n\u001b[0m\u001b[1;32m    162\u001b[0m             \u001b[0;32melse\u001b[0m\u001b[0;34m:\u001b[0m\u001b[0;34m\u001b[0m\u001b[0;34m\u001b[0m\u001b[0m\n\u001b[1;32m    163\u001b[0m                 \u001b[0mreductor\u001b[0m \u001b[0;34m=\u001b[0m \u001b[0mdispatch_table\u001b[0m\u001b[0;34m.\u001b[0m\u001b[0mget\u001b[0m\u001b[0;34m(\u001b[0m\u001b[0mcls\u001b[0m\u001b[0;34m)\u001b[0m\u001b[0;34m\u001b[0m\u001b[0;34m\u001b[0m\u001b[0m\n",
      "\u001b[0;32m~/anaconda3/envs/torch/lib/python3.7/site-packages/torch/tensor.py\u001b[0m in \u001b[0;36m__deepcopy__\u001b[0;34m(self, memo)\u001b[0m\n\u001b[1;32m     53\u001b[0m                 \u001b[0mnew_tensor\u001b[0m \u001b[0;34m=\u001b[0m \u001b[0mself\u001b[0m\u001b[0;34m.\u001b[0m\u001b[0mclone\u001b[0m\u001b[0;34m(\u001b[0m\u001b[0;34m)\u001b[0m\u001b[0;34m\u001b[0m\u001b[0;34m\u001b[0m\u001b[0m\n\u001b[1;32m     54\u001b[0m             \u001b[0;32melse\u001b[0m\u001b[0;34m:\u001b[0m\u001b[0;34m\u001b[0m\u001b[0;34m\u001b[0m\u001b[0m\n\u001b[0;32m---> 55\u001b[0;31m                 \u001b[0mnew_storage\u001b[0m \u001b[0;34m=\u001b[0m \u001b[0mself\u001b[0m\u001b[0;34m.\u001b[0m\u001b[0mstorage\u001b[0m\u001b[0;34m(\u001b[0m\u001b[0;34m)\u001b[0m\u001b[0;34m.\u001b[0m\u001b[0m__deepcopy__\u001b[0m\u001b[0;34m(\u001b[0m\u001b[0mmemo\u001b[0m\u001b[0;34m)\u001b[0m\u001b[0;34m\u001b[0m\u001b[0;34m\u001b[0m\u001b[0m\n\u001b[0m\u001b[1;32m     56\u001b[0m                 \u001b[0;32mif\u001b[0m \u001b[0mself\u001b[0m\u001b[0;34m.\u001b[0m\u001b[0mis_quantized\u001b[0m\u001b[0;34m:\u001b[0m\u001b[0;34m\u001b[0m\u001b[0;34m\u001b[0m\u001b[0m\n\u001b[1;32m     57\u001b[0m                     \u001b[0;31m# quantizer_params can be different type based on torch attribute\u001b[0m\u001b[0;34m\u001b[0m\u001b[0;34m\u001b[0m\u001b[0;34m\u001b[0m\u001b[0m\n",
      "\u001b[0;32m~/anaconda3/envs/torch/lib/python3.7/site-packages/torch/storage.py\u001b[0m in \u001b[0;36m__deepcopy__\u001b[0;34m(self, memo)\u001b[0m\n\u001b[1;32m     26\u001b[0m         \u001b[0;32mif\u001b[0m \u001b[0mself\u001b[0m\u001b[0;34m.\u001b[0m\u001b[0m_cdata\u001b[0m \u001b[0;32min\u001b[0m \u001b[0mmemo\u001b[0m\u001b[0;34m:\u001b[0m\u001b[0;34m\u001b[0m\u001b[0;34m\u001b[0m\u001b[0m\n\u001b[1;32m     27\u001b[0m             \u001b[0;32mreturn\u001b[0m \u001b[0mmemo\u001b[0m\u001b[0;34m[\u001b[0m\u001b[0mself\u001b[0m\u001b[0;34m.\u001b[0m\u001b[0m_cdata\u001b[0m\u001b[0;34m]\u001b[0m\u001b[0;34m\u001b[0m\u001b[0;34m\u001b[0m\u001b[0m\n\u001b[0;32m---> 28\u001b[0;31m         \u001b[0mnew_storage\u001b[0m \u001b[0;34m=\u001b[0m \u001b[0mself\u001b[0m\u001b[0;34m.\u001b[0m\u001b[0mclone\u001b[0m\u001b[0;34m(\u001b[0m\u001b[0;34m)\u001b[0m\u001b[0;34m\u001b[0m\u001b[0;34m\u001b[0m\u001b[0m\n\u001b[0m\u001b[1;32m     29\u001b[0m         \u001b[0mmemo\u001b[0m\u001b[0;34m[\u001b[0m\u001b[0mself\u001b[0m\u001b[0;34m.\u001b[0m\u001b[0m_cdata\u001b[0m\u001b[0;34m]\u001b[0m \u001b[0;34m=\u001b[0m \u001b[0mnew_storage\u001b[0m\u001b[0;34m\u001b[0m\u001b[0;34m\u001b[0m\u001b[0m\n\u001b[1;32m     30\u001b[0m         \u001b[0;32mreturn\u001b[0m \u001b[0mnew_storage\u001b[0m\u001b[0;34m\u001b[0m\u001b[0;34m\u001b[0m\u001b[0m\n",
      "\u001b[0;32m~/anaconda3/envs/torch/lib/python3.7/site-packages/torch/storage.py\u001b[0m in \u001b[0;36mclone\u001b[0;34m(self)\u001b[0m\n\u001b[1;32m     42\u001b[0m         \u001b[0mdevice\u001b[0m \u001b[0;34m=\u001b[0m \u001b[0mself\u001b[0m\u001b[0;34m.\u001b[0m\u001b[0mget_device\u001b[0m\u001b[0;34m(\u001b[0m\u001b[0;34m)\u001b[0m \u001b[0;32mif\u001b[0m \u001b[0mself\u001b[0m\u001b[0;34m.\u001b[0m\u001b[0mis_cuda\u001b[0m \u001b[0;32melse\u001b[0m \u001b[0;34m-\u001b[0m\u001b[0;36m1\u001b[0m\u001b[0;34m\u001b[0m\u001b[0;34m\u001b[0m\u001b[0m\n\u001b[1;32m     43\u001b[0m         \u001b[0;32mwith\u001b[0m \u001b[0mtorch\u001b[0m\u001b[0;34m.\u001b[0m\u001b[0mcuda\u001b[0m\u001b[0;34m.\u001b[0m\u001b[0mdevice\u001b[0m\u001b[0;34m(\u001b[0m\u001b[0mdevice\u001b[0m\u001b[0;34m)\u001b[0m\u001b[0;34m:\u001b[0m\u001b[0;34m\u001b[0m\u001b[0;34m\u001b[0m\u001b[0m\n\u001b[0;32m---> 44\u001b[0;31m             \u001b[0;32mreturn\u001b[0m \u001b[0mtype\u001b[0m\u001b[0;34m(\u001b[0m\u001b[0mself\u001b[0m\u001b[0;34m)\u001b[0m\u001b[0;34m(\u001b[0m\u001b[0mself\u001b[0m\u001b[0;34m.\u001b[0m\u001b[0msize\u001b[0m\u001b[0;34m(\u001b[0m\u001b[0;34m)\u001b[0m\u001b[0;34m)\u001b[0m\u001b[0;34m.\u001b[0m\u001b[0mcopy_\u001b[0m\u001b[0;34m(\u001b[0m\u001b[0mself\u001b[0m\u001b[0;34m)\u001b[0m\u001b[0;34m\u001b[0m\u001b[0;34m\u001b[0m\u001b[0m\n\u001b[0m\u001b[1;32m     45\u001b[0m \u001b[0;34m\u001b[0m\u001b[0m\n\u001b[1;32m     46\u001b[0m     \u001b[0;32mdef\u001b[0m \u001b[0mtolist\u001b[0m\u001b[0;34m(\u001b[0m\u001b[0mself\u001b[0m\u001b[0;34m)\u001b[0m\u001b[0;34m:\u001b[0m\u001b[0;34m\u001b[0m\u001b[0;34m\u001b[0m\u001b[0m\n",
      "\u001b[0;32m~/anaconda3/envs/torch/lib/python3.7/site-packages/torch/cuda/__init__.py\u001b[0m in \u001b[0;36m_lazy_new\u001b[0;34m(cls, *args, **kwargs)\u001b[0m\n\u001b[1;32m    460\u001b[0m     \u001b[0;31m# We may need to call lazy init again if we are a forked child\u001b[0m\u001b[0;34m\u001b[0m\u001b[0;34m\u001b[0m\u001b[0;34m\u001b[0m\u001b[0m\n\u001b[1;32m    461\u001b[0m     \u001b[0;31m# del _CudaBase.__new__\u001b[0m\u001b[0;34m\u001b[0m\u001b[0;34m\u001b[0m\u001b[0;34m\u001b[0m\u001b[0m\n\u001b[0;32m--> 462\u001b[0;31m     \u001b[0;32mreturn\u001b[0m \u001b[0msuper\u001b[0m\u001b[0;34m(\u001b[0m\u001b[0m_CudaBase\u001b[0m\u001b[0;34m,\u001b[0m \u001b[0mcls\u001b[0m\u001b[0;34m)\u001b[0m\u001b[0;34m.\u001b[0m\u001b[0m__new__\u001b[0m\u001b[0;34m(\u001b[0m\u001b[0mcls\u001b[0m\u001b[0;34m,\u001b[0m \u001b[0;34m*\u001b[0m\u001b[0margs\u001b[0m\u001b[0;34m,\u001b[0m \u001b[0;34m**\u001b[0m\u001b[0mkwargs\u001b[0m\u001b[0;34m)\u001b[0m\u001b[0;34m\u001b[0m\u001b[0;34m\u001b[0m\u001b[0m\n\u001b[0m\u001b[1;32m    463\u001b[0m \u001b[0;34m\u001b[0m\u001b[0m\n\u001b[1;32m    464\u001b[0m \u001b[0;34m\u001b[0m\u001b[0m\n",
      "\u001b[0;31mRuntimeError\u001b[0m: CUDA out of memory. Tried to allocate 20.00 MiB (GPU 0; 23.70 GiB total capacity; 1.16 GiB already allocated; 15.81 MiB free; 1.23 GiB reserved in total by PyTorch)"
     ]
    }
   ],
   "source": [
    "trainer = main.PoseTrainer(config, 1, \"results/hrnet-train/ckpt-HRNet_W48_1.pth\")"
   ]
  },
  {
   "cell_type": "markdown",
   "metadata": {},
   "source": [
    "---\n",
    "\n",
    "## 학습 시작"
   ]
  },
  {
   "cell_type": "code",
   "execution_count": 16,
   "metadata": {},
   "outputs": [],
   "source": [
    "kf = KFold(n_splits=5, shuffle=True, random_state=SEED)\n",
    "indices = list(kf.split(total_imgs))\n",
    "\n",
    "# train dataset\n",
    "train_idx, valid_idx = indices[0]\n",
    "ds_train = KeypointDataset(\n",
    "    total_imgs[train_idx],\n",
    "    total_keypoints[train_idx],\n",
    "    augmentation=True,\n",
    "    padding=PADDING,\n",
    ")\n",
    "dl_train = DataLoader(ds_train, batch_size=BATCH_SIZE, num_workers=4, shuffle=True)\n",
    "\n",
    "# validation dataset\n",
    "ds_valid = KeypointDataset(\n",
    "    total_imgs[valid_idx],\n",
    "    total_keypoints[valid_idx],\n",
    "    augmentation=False,\n",
    "    padding=PADDING,\n",
    ")\n",
    "dl_valid = DataLoader(ds_valid, batch_size=BATCH_SIZE, num_workers=4, shuffle=False)\n",
    "\n",
    "# test dataset\n",
    "ds_test = TestKeypointDataset(test_imgs, offsets, ratios, augmentation=False)\n",
    "dl_test = DataLoader(ds_test, batch_size=BATCH_SIZE, num_workers=4, shuffle=False)\n",
    "\n",
    "epoch = START_EPOCH"
   ]
  },
  {
   "cell_type": "code",
   "execution_count": 17,
   "metadata": {},
   "outputs": [],
   "source": [
    "if CHECKPOINT_PATH is not None:\n",
    "    load(CHECKPOINT_PATH)"
   ]
  },
  {
   "cell_type": "code",
   "execution_count": 18,
   "metadata": {},
   "outputs": [
    {
     "name": "stdout",
     "output_type": "stream",
     "text": [
      "\u001b[34m[2021-03-21 23:53:17  INFO] 학습 시작\u001b[0m\n",
      "\u001b[34m[2021-03-21 23:53:17  INFO] POSE_MODEL: HRNet-W48\u001b[0m\n",
      "\u001b[34m[2021-03-21 23:53:17  INFO] UID: 20210321-235315\u001b[0m\n",
      "\u001b[34m[2021-03-21 23:53:17  INFO] SEED: 20210309\u001b[0m\n",
      "\u001b[34m[2021-03-21 23:53:17  INFO] LR: 0.0001\u001b[0m\n",
      "\u001b[34m[2021-03-21 23:53:17  INFO] BATCH_SIZE: 10\u001b[0m\n",
      "\u001b[34m[2021-03-21 23:53:17  INFO] START_EPOCH: 1\u001b[0m\n",
      "\u001b[34m[2021-03-21 23:53:17  INFO] SAM: False\u001b[0m\n",
      "\u001b[34m[2021-03-21 23:53:17  INFO] FOLD: 3\u001b[0m\n",
      "\u001b[34m[2021-03-21 23:53:17  INFO] PADDING: 30\u001b[0m\n",
      "\u001b[34m[2021-03-21 23:53:17  INFO] ADD_JOINT_LOSS: False\u001b[0m\n",
      "\u001b[34m[2021-03-21 23:53:17  INFO] DEBUG: False\u001b[0m\n",
      "\u001b[34m[2021-03-21 23:53:17  INFO] STEP1_EPOCHS: 10\u001b[0m\n",
      "\u001b[34m[2021-03-21 23:53:17  INFO] STEP2_EPOCHS: 20\u001b[0m\n",
      "\u001b[34m[2021-03-21 23:53:17  INFO] STEP3_EPOCHS: 500\u001b[0m\n",
      "\u001b[34m[2021-03-21 23:53:17  INFO] INPUT_WIDTH: 576\u001b[0m\n",
      "\u001b[34m[2021-03-21 23:53:17  INFO] INPUT_HEIGHT: 768\u001b[0m\n",
      "\u001b[34m[2021-03-21 23:53:17  INFO] CHECKPOINT_PATH: None\u001b[0m\n"
     ]
    }
   ],
   "source": [
    "utils.seed_everything(SEED, deterministic=False)\n",
    "RESULT_DIR.mkdir(parents=True, exist_ok=True)\n",
    "log = utils.CustomLogger(RESULT_DIR / f\"log_{UID}.log\", \"a\")\n",
    "log.info(\"학습 시작\")\n",
    "log.info(\"POSE_MODEL:\", POSE_MODEL)\n",
    "log.info(\"UID:\", UID)\n",
    "log.info(\"SEED:\", SEED)\n",
    "log.info(\"LR:\", LR)\n",
    "log.info(\"BATCH_SIZE:\", BATCH_SIZE)\n",
    "log.info(\"START_EPOCH:\", START_EPOCH)\n",
    "log.info(\"SAM:\", SAM)\n",
    "log.info(\"FOLD:\", FOLD)\n",
    "log.info(\"PADDING:\", PADDING)\n",
    "log.info(\"ADD_JOINT_LOSS:\", ADD_JOINT_LOSS)\n",
    "log.info(\"DEBUG:\", DEBUG)\n",
    "log.info(\"STEP1_EPOCHS:\", STEP1_EPOCHS)\n",
    "log.info(\"STEP2_EPOCHS:\", STEP2_EPOCHS)\n",
    "log.info(\"STEP3_EPOCHS:\", STEP3_EPOCHS)\n",
    "log.info(\"INPUT_WIDTH:\", INPUT_WIDTH)\n",
    "log.info(\"INPUT_HEIGHT:\", INPUT_HEIGHT)\n",
    "log.info(\"CHECKPOINT_PATH:\", CHECKPOINT_PATH)\n",
    "log.flush()"
   ]
  },
  {
   "cell_type": "code",
   "execution_count": 19,
   "metadata": {},
   "outputs": [],
   "source": [
    "def train_loop():\n",
    "    pose_model.train()\n",
    "\n",
    "    meanloss, meanrmse = utils.AverageMeter(), utils.AverageMeter()\n",
    "    with tqdm(total=len(dl_train.dataset), ncols=100, leave=False, file=sys.stdout, desc=f\"Train {epoch:03d}\") as t:\n",
    "        for files, imgs, keypoints, target_heatmaps, ratios in dl_train:\n",
    "            imgs_, target_heatmaps_ = imgs.cuda(), target_heatmaps.cuda()\n",
    "            pred_heatmaps_ = pose_model(imgs_)\n",
    "            loss = criterion(pred_heatmaps_, target_heatmaps_)\n",
    "            rmse = criterion_rmse(pred_heatmaps_, target_heatmaps_, ratios.cuda())\n",
    "\n",
    "            optimizer.zero_grad()\n",
    "            loss.backward()\n",
    "            if isinstance(optimizer, utils.SAM):\n",
    "                optimizer.first_step()\n",
    "                criterion(pose_model(imgs_), target_heatmaps_).backward()\n",
    "                optimizer.second_step()\n",
    "            else:\n",
    "                optimizer.step()\n",
    "\n",
    "            meanloss.update(loss.item())\n",
    "            meanrmse.update(rmse.item())\n",
    "            t.set_postfix_str(f\"loss: {loss.item():.6f}, rmse: {rmse.item():.6f}\", refresh=False)\n",
    "            t.update(len(imgs))\n",
    "\n",
    "    return meanloss(), meanrmse()"
   ]
  },
  {
   "cell_type": "code",
   "execution_count": 20,
   "metadata": {},
   "outputs": [],
   "source": [
    "@torch.no_grad()\n",
    "def valid_loop():\n",
    "    pose_model.eval()\n",
    "\n",
    "    meanloss, meanrmse = utils.AverageMeter(), utils.AverageMeter()\n",
    "    with tqdm(total=len(dl_valid.dataset), ncols=100, leave=False, file=sys.stdout, desc=f\"Valid {epoch:03d}\") as t:\n",
    "        for files, imgs, keypoints, target_heatmaps, ratios in dl_valid:\n",
    "            imgs_, target_heatmaps_ = imgs.cuda(), target_heatmaps.cuda()\n",
    "            pred_heatmaps_ = pose_model(imgs_)\n",
    "            loss = criterion(pred_heatmaps_, target_heatmaps_)\n",
    "            rmse = criterion_rmse(pred_heatmaps_, target_heatmaps_, ratios.cuda())\n",
    "\n",
    "            meanloss.update(loss.item())\n",
    "            meanrmse.update(rmse.item())\n",
    "            t.set_postfix_str(f\"loss: {loss.item():.6f}, rmse: {rmse.item():.6f}\", refresh=False)\n",
    "            t.update(len(imgs))\n",
    "\n",
    "    return meanloss(), meanrmse()"
   ]
  },
  {
   "cell_type": "markdown",
   "metadata": {},
   "source": [
    "### Finetune Step 1"
   ]
  },
  {
   "cell_type": "code",
   "execution_count": 21,
   "metadata": {},
   "outputs": [
    {
     "name": "stdout",
     "output_type": "stream",
     "text": [
      "\u001b[34m[2021-03-21 23:53:18  INFO] Finetune Step 1\u001b[0m\n",
      "\u001b[34m[2021-03-21 23:58:08  INFO] Epoch: 001, loss: 7.564656;5.685315, rmse 101.205292;79.330643\u001b[0m \n",
      "\u001b[34m[2021-03-22 00:02:55  INFO] Epoch: 002, loss: 4.890828;4.309723, rmse 58.377068;34.204077\u001b[0m  \n",
      "\u001b[34m[2021-03-22 00:07:43  INFO] Epoch: 003, loss: 3.989645;3.856502, rmse 30.450904;20.512082\u001b[0m  \n",
      "\u001b[34m[2021-03-22 00:12:31  INFO] Epoch: 004, loss: 3.567925;3.667795, rmse 20.836941;18.546650\u001b[0m  \n",
      "\u001b[34m[2021-03-22 00:17:19  INFO] Epoch: 005, loss: 3.271069;3.543567, rmse 17.804651;16.872146\u001b[0m  \n",
      "\u001b[34m[2021-03-22 00:22:07  INFO] Epoch: 006, loss: 3.025566;3.469329, rmse 14.656848;16.329735\u001b[0m  \n",
      "\u001b[34m[2021-03-22 00:26:55  INFO] Epoch: 007, loss: 2.816415;3.416607, rmse 14.205641;14.817151\u001b[0m  \n",
      "\u001b[34m[2021-03-22 00:31:43  INFO] Epoch: 008, loss: 2.615595;3.427628, rmse 12.346229;15.498619\u001b[0m  \n",
      "\u001b[34m[2021-03-22 00:36:31  INFO] Epoch: 009, loss: 2.437437;3.429644, rmse 11.747901;14.390473\u001b[0m  \n",
      "\u001b[34m[2021-03-22 00:41:18  INFO] Epoch: 010, loss: 2.280654;3.440171, rmse 11.449862;14.956587\u001b[0m  \n"
     ]
    }
   ],
   "source": [
    "log.info(\"Finetune Step 1\")\n",
    "torch.cuda.empty_cache()\n",
    "pose_model.freeze_head()\n",
    "for epoch in range(epoch, STEP1_EPOCHS + 1):\n",
    "    tloss, trmse = train_loop()\n",
    "    vloss, vrmse = valid_loop()\n",
    "\n",
    "    log.info(f\"Epoch: {epoch:03d}, loss: {tloss:.6f};{vloss:.6f}, rmse {trmse:.6f};{vrmse:.6f}\")\n",
    "    log.flush()\n",
    "\n",
    "    if best_loss > vloss:\n",
    "        best_loss = vloss\n",
    "        save(RESULT_DIR / f\"ckpt-{UID}_{FOLD}.pth\")"
   ]
  },
  {
   "cell_type": "markdown",
   "metadata": {},
   "source": [
    "### Finetune Step 2"
   ]
  },
  {
   "cell_type": "code",
   "execution_count": 23,
   "metadata": {},
   "outputs": [
    {
     "name": "stdout",
     "output_type": "stream",
     "text": [
      "\u001b[34m[2021-03-22 08:53:04  INFO] Finetune Step 2\u001b[0m\n",
      "\u001b[34m[2021-03-22 08:55:56  INFO] Epoch: 010, loss: 2.104729;3.616645, rmse 10.008939;14.551863\u001b[0m  \n",
      "\u001b[34m[2021-03-22 08:58:47  INFO] Epoch: 011, loss: 2.084577;3.634394, rmse 9.649983;14.678430\u001b[0m   \n",
      "\u001b[34m[2021-03-22 09:01:37  INFO] Epoch: 012, loss: 2.076373;3.658820, rmse 9.464002;14.239340\u001b[0m   \n",
      "\u001b[34m[2021-03-22 09:04:29  INFO] Epoch: 013, loss: 2.081457;3.664402, rmse 9.375424;14.112958\u001b[0m   \n",
      "\u001b[34m[2021-03-22 09:07:17  INFO] Epoch: 014, loss: 2.078772;3.683389, rmse 8.685960;13.593442\u001b[0m   \n",
      "\u001b[34m[2021-03-22 09:10:08  INFO] Epoch: 015, loss: 2.077808;3.697917, rmse 8.327278;14.109696\u001b[0m   \n",
      "\u001b[34m[2021-03-22 09:12:58  INFO] Epoch: 016, loss: 2.071069;3.697929, rmse 8.271958;14.043605\u001b[0m   \n",
      "\u001b[34m[2021-03-22 09:15:48  INFO] Epoch: 017, loss: 2.071886;3.706438, rmse 8.377780;13.921576\u001b[0m   \n",
      "\u001b[34m[2021-03-22 09:18:44  INFO] Epoch: 018, loss: 2.081219;3.690305, rmse 8.040496;13.749948\u001b[0m   \n",
      "\u001b[34m[2021-03-22 09:21:36  INFO] Epoch: 019, loss: 2.066945;3.700463, rmse 8.403259;13.889715\u001b[0m   \n",
      "\u001b[34m[2021-03-22 09:24:29  INFO] Epoch: 020, loss: 2.080184;3.702056, rmse 8.372381;13.970704\u001b[0m   \n"
     ]
    }
   ],
   "source": [
    "log.info(\"Finetune Step 2\")\n",
    "torch.cuda.empty_cache()\n",
    "pose_model.freeze_tail()\n",
    "for epoch in range(epoch, STEP2_EPOCHS + 1):\n",
    "    tloss, trmse = train_loop()\n",
    "    vloss, vrmse = valid_loop()\n",
    "\n",
    "    log.info(f\"Epoch: {epoch:03d}, loss: {tloss:.6f};{vloss:.6f}, rmse {trmse:.6f};{vrmse:.6f}\")\n",
    "    log.flush()\n",
    "\n",
    "    if best_loss > vloss:\n",
    "        best_loss = vloss\n",
    "        save(RESULT_DIR / f\"ckpt-{UID}_{FOLD}.pth\")"
   ]
  },
  {
   "cell_type": "markdown",
   "metadata": {},
   "source": [
    "### Finetune Step 3"
   ]
  },
  {
   "cell_type": "code",
   "execution_count": null,
   "metadata": {},
   "outputs": [],
   "source": [
    "log.info(\"Finetune Step 3\")\n",
    "torch.cuda.empty_cache()\n",
    "pose_model.unfreeze_all()\n",
    "for epoch in range(epoch, STEP3_EPOCHS + 1):\n",
    "    tloss, trmse = train_loop()\n",
    "    vloss, vrmse = valid_loop()\n",
    "\n",
    "    log.info(f\"Epoch: {epoch:03d}, loss: {tloss:.6f};{vloss:.6f}, rmse {trmse:.6f};{vrmse:.6f}\")\n",
    "    log.flush()\n",
    "    scheduler.step(vo.loss)\n",
    "\n",
    "    if best_loss > vo.loss:\n",
    "        best_loss = vo.loss\n",
    "        earlystop_cnt = 0\n",
    "        save(RESULT_DIR / f\"ckpt-{UID}_{FOLD}.pth\")\n",
    "    elif earlystop_cnt >= 10:\n",
    "        log.info(f\"Stop training at epoch\", epoch)\n",
    "        break\n",
    "    else:\n",
    "        earlystop_cnt += 1"
   ]
  },
  {
   "cell_type": "markdown",
   "metadata": {},
   "source": [
    "---\n",
    "\n",
    "## 검증"
   ]
  },
  {
   "cell_type": "code",
   "execution_count": null,
   "metadata": {},
   "outputs": [],
   "source": [
    "# 어떻게 학습됐는지 검증한번 해보자\n",
    "\n",
    "with torch.no_grad():\n",
    "    pose_model.eval()\n",
    "    valid_output_dir = Path(f\"results/hrnet_example/valid-{UID}\")\n",
    "    valid_output_dir.mkdir(parents=True, exist_ok=True)\n",
    "\n",
    "    meanloss, meanrmse = utils.AverageMeter(), utils.AverageMeter()\n",
    "    with tqdm(total=len(dl_valid.dataset), ncols=100, leave=True, file=sys.stdout, desc=f\"Valid {epoch:03d}\") as t:\n",
    "        for files, imgs, keypoints, target_heatmaps, ratios in dl_valid:\n",
    "            imgs_, target_heatmaps_ = imgs.cuda(), target_heatmaps.cuda()\n",
    "            pred_heatmaps_ = pose_model(imgs_)\n",
    "            loss = criterion(pred_heatmaps_, target_heatmaps_)\n",
    "            rmse = criterion_rmse(pred_heatmaps_, target_heatmaps_, ratios.cuda())\n",
    "\n",
    "            meanloss.update(loss.item())\n",
    "            meanrmse.update(rmse.item())\n",
    "            t.set_postfix_str(f\"loss: {loss.item():.6f}, rmse: {rmse.item():.6f}\", refresh=False)\n",
    "\n",
    "            for file, img, pred_heatmap, target_heatmap, ratio in zip(\n",
    "                files, imgs, pred_heatmaps_.cpu(), target_heatmaps, ratios\n",
    "            ):\n",
    "                file = Path(file)\n",
    "\n",
    "                pred_keypoint = utils.heatmaps2keypoints(pred_heatmap)\n",
    "                target_keypoint = utils.heatmaps2keypoints(target_heatmap)\n",
    "                pred_keypoint = pred_keypoint * 4 / ratio.view(1, 2)\n",
    "                target_keypoint = target_keypoint * 4 / ratio.view(1, 2)\n",
    "                pred_keypoint = pred_keypoint.type(torch.int64).numpy()\n",
    "                target_keypoint = target_keypoint.type(torch.int64).numpy()\n",
    "\n",
    "                img_np = utils.denormalize(img).mul(255).type(torch.uint8).permute(1, 2, 0).numpy()\n",
    "                ori_width = img.size(2) / ratio[0]\n",
    "                ori_height = img.size(1) / ratio[1]\n",
    "                img_np = cv2.resize(img_np, (ori_width, ori_height))\n",
    "\n",
    "                pred_keypoint_img = utils.draw_keypoints(img_np, pred_keypoint)\n",
    "                target_keypoint_img = utils.draw_keypoints(img_np, target_keypoint)\n",
    "\n",
    "                rmse = np.sqrt(np.mean(np.square(pred_keypoint - target_keypoint)))\n",
    "\n",
    "                imageio.imwrite(valid_output_dir / f\"{file.name[:-4]}_pred_{rmse:.4f}.jpg\", pred_keypoint_img)\n",
    "                imageio.imwrite(valid_output_dir / f\"{file.name[:-4]}_target.jpg\", target_keypoint_img)\n",
    "\n",
    "                t.update()"
   ]
  },
  {
   "cell_type": "code",
   "execution_count": null,
   "metadata": {},
   "outputs": [],
   "source": []
  }
 ],
 "metadata": {
  "kernelspec": {
   "display_name": "Python 3",
   "language": "python",
   "name": "python3"
  },
  "language_info": {
   "codemirror_mode": {
    "name": "ipython",
    "version": 3
   },
   "file_extension": ".py",
   "mimetype": "text/x-python",
   "name": "python",
   "nbconvert_exporter": "python",
   "pygments_lexer": "ipython3",
   "version": "3.7.9"
  }
 },
 "nbformat": 4,
 "nbformat_minor": 5
}
