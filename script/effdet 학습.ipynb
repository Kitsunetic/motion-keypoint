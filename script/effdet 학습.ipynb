{
 "cells": [
  {
   "cell_type": "code",
   "execution_count": 1,
   "metadata": {},
   "outputs": [],
   "source": [
    "%load_ext lab_black"
   ]
  },
  {
   "cell_type": "code",
   "execution_count": 2,
   "metadata": {},
   "outputs": [],
   "source": [
    "import math\n",
    "import os\n",
    "import random\n",
    "import shutil\n",
    "import json\n",
    "import logging\n",
    "import sys\n",
    "from collections import defaultdict\n",
    "from datetime import datetime\n",
    "from io import TextIOWrapper\n",
    "from pathlib import Path\n",
    "from typing import Callable, List, Sequence, Tuple\n",
    "\n",
    "import albumentations as A\n",
    "import cv2\n",
    "import imageio\n",
    "import matplotlib.pyplot as plt\n",
    "import numpy as np\n",
    "import pandas as pd\n",
    "import torch\n",
    "import torch.nn as nn\n",
    "import torch.optim as optim\n",
    "from albumentations.pytorch import ToTensorV2\n",
    "from sklearn.model_selection import KFold\n",
    "from torch import nn, optim\n",
    "from torch.optim.lr_scheduler import ReduceLROnPlateau\n",
    "from torch.utils.data import DataLoader, Dataset\n",
    "from torch.utils.tensorboard import SummaryWriter\n",
    "from torchvision.models.detection import fasterrcnn_resnet50_fpn\n",
    "from tqdm import tqdm\n",
    "\n",
    "import utils\n",
    "import networks"
   ]
  },
  {
   "cell_type": "code",
   "execution_count": 3,
   "metadata": {},
   "outputs": [],
   "source": [
    "RESULT_DIR = Path(\"results/Effdet학습\")"
   ]
  },
  {
   "cell_type": "code",
   "execution_count": 7,
   "metadata": {},
   "outputs": [],
   "source": [
    "LR = 1e-4  # transfer learning이니깐 좀 작게 주는게 좋을 것 같아서 1e-4\n",
    "BATCH_SIZE = 10\n",
    "START_EPOCH = 1\n",
    "SAM = False"
   ]
  },
  {
   "cell_type": "code",
   "execution_count": 8,
   "metadata": {},
   "outputs": [],
   "source": [
    "n = datetime.now()\n",
    "UID = f\"{n.year:04d}{n.month:02d}{n.day:02d}-{n.hour:02d}{n.minute:02d}{n.second:02d}\"\n",
    "SEED = 20210309"
   ]
  },
  {
   "cell_type": "code",
   "execution_count": 9,
   "metadata": {},
   "outputs": [
    {
     "name": "stdout",
     "output_type": "stream",
     "text": [
      "\u001b[34m[2021-03-13 21:09:45  INFO] 학습 시작\u001b[0m\n",
      "\u001b[34m[2021-03-13 21:09:45  INFO] UID: 20210313-210942\u001b[0m\n",
      "\u001b[34m[2021-03-13 21:09:45  INFO] SEED: 20210309\u001b[0m\n",
      "\u001b[34m[2021-03-13 21:09:45  INFO] LR: 0.0001\u001b[0m\n",
      "\u001b[34m[2021-03-13 21:09:45  INFO] BATCH_SIZE: 10\u001b[0m\n",
      "\u001b[34m[2021-03-13 21:09:45  INFO] START_EPOCH: 1\u001b[0m\n",
      "\u001b[34m[2021-03-13 21:09:45  INFO] SAM: False\u001b[0m\n"
     ]
    }
   ],
   "source": [
    "utils.seed_everything(SEED, deterministic=False)\n",
    "RESULT_DIR.mkdir(parents=True, exist_ok=True)\n",
    "log = utils.CustomLogger(RESULT_DIR / f\"log_{UID}.log\", \"a\")\n",
    "log.info(\"학습 시작\")\n",
    "log.info(\"UID:\", UID)\n",
    "log.info(\"SEED:\", SEED)\n",
    "log.info(\"LR:\", LR)\n",
    "log.info(\"BATCH_SIZE:\", BATCH_SIZE)\n",
    "log.info(\"START_EPOCH:\", START_EPOCH)\n",
    "log.info(\"SAM:\", SAM)"
   ]
  },
  {
   "cell_type": "markdown",
   "metadata": {},
   "source": [
    "---\n",
    "\n",
    "## 데이터 로딩"
   ]
  },
  {
   "cell_type": "code",
   "execution_count": 10,
   "metadata": {},
   "outputs": [],
   "source": [
    "train_imgs = np.array(sorted(list(Path(\"data/box2/train_imgs/\").glob(\"*.jpg\"))))\n",
    "test_imgs = np.array(sorted(list(Path(\"data/box2/test_imgs/\").glob(\"*.jpg\"))))"
   ]
  },
  {
   "cell_type": "code",
   "execution_count": 11,
   "metadata": {},
   "outputs": [],
   "source": [
    "df = pd.read_csv(\"data/ori/train_df.csv\")\n",
    "keypoints = df.to_numpy()[:, 1:].astype(np.float32)\n",
    "keypoints = np.stack([keypoints[:, 0::2], keypoints[:, 1::2]], axis=2)"
   ]
  },
  {
   "cell_type": "code",
   "execution_count": 13,
   "metadata": {},
   "outputs": [],
   "source": [
    "class ImageDataset(Dataset):\n",
    "    def __init__(self, files, keypoints=None, padding=40):\n",
    "        super().__init__()\n",
    "        self.files = files\n",
    "        self.keypoints = keypoints\n",
    "        self.padding = padding\n",
    "\n",
    "    def __len__(self):\n",
    "        return len(self.files)\n",
    "\n",
    "    def __getitem__(self, idx):\n",
    "        f = self.files[idx]\n",
    "        img = imageio.imread(f)\n",
    "        x = torch.as_tensor(img, dtype=torch.float32).permute(2, 0, 1) / 255.0\n",
    "\n",
    "        if self.keypoints is not None:\n",
    "            keypoints = self.keypoints[idx]\n",
    "            xmin = keypoints[:, 0].min() - self.padding\n",
    "            xmax = keypoints[:, 0].max() + self.padding\n",
    "            ymin = keypoints[:, 1].min() - self.padding\n",
    "            ymax = keypoints[:, 1].max() + self.padding\n",
    "            target = {\n",
    "                \"labels\": torch.tensor([1], dtype=torch.int64),\n",
    "                \"boxes\": torch.tensor([[xmin, ymin, xmax, ymax]], dtype=torch.float32),\n",
    "            }\n",
    "            return x, target\n",
    "        return x"
   ]
  },
  {
   "cell_type": "code",
   "execution_count": null,
   "metadata": {},
   "outputs": [],
   "source": [
    "ds_train = ImageDataset(train_imgs, train_keypoints)\n",
    "ds_valid = ImageDataset(valid_imgs, valid_keypoints)\n",
    "ds_test = ImageDataset(test_imgs)\n",
    "ds_total = utils.ChainDataset(ds_train, ds_valid)"
   ]
  },
  {
   "cell_type": "code",
   "execution_count": null,
   "metadata": {},
   "outputs": [],
   "source": []
  },
  {
   "cell_type": "code",
   "execution_count": null,
   "metadata": {},
   "outputs": [],
   "source": []
  },
  {
   "cell_type": "code",
   "execution_count": null,
   "metadata": {},
   "outputs": [],
   "source": []
  },
  {
   "cell_type": "code",
   "execution_count": 3,
   "metadata": {},
   "outputs": [],
   "source": [
    "model = networks.EfficientDet(\"efficientdet-d0\", pretrained=True)"
   ]
  },
  {
   "cell_type": "code",
   "execution_count": null,
   "metadata": {},
   "outputs": [],
   "source": []
  }
 ],
 "metadata": {
  "kernelspec": {
   "display_name": "torch",
   "language": "python",
   "name": "torch"
  },
  "language_info": {
   "codemirror_mode": {
    "name": "ipython",
    "version": 3
   },
   "file_extension": ".py",
   "mimetype": "text/x-python",
   "name": "python",
   "nbconvert_exporter": "python",
   "pygments_lexer": "ipython3",
   "version": "3.7.9"
  }
 },
 "nbformat": 4,
 "nbformat_minor": 4
}
