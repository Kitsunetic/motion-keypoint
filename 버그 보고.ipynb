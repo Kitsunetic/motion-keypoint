{
 "cells": [
  {
   "cell_type": "code",
   "execution_count": 1,
   "metadata": {},
   "outputs": [],
   "source": [
    "%load_ext lab_black"
   ]
  },
  {
   "cell_type": "code",
   "execution_count": 2,
   "metadata": {},
   "outputs": [],
   "source": [
    "import math\n",
    "import os\n",
    "import random\n",
    "import shutil\n",
    "from pathlib import Path\n",
    "from typing import Callable, List, Sequence, Tuple\n",
    "\n",
    "import cv2\n",
    "import imageio\n",
    "import matplotlib.pyplot as plt\n",
    "import numpy as np\n",
    "import pandas as pd\n",
    "import torch\n",
    "import torch.nn as nn\n",
    "from torch.utils.data import DataLoader, Dataset\n",
    "from torchvision.models import mobilenet_v2\n",
    "from torchvision.models.detection import fasterrcnn_resnet50_fpn"
   ]
  },
  {
   "cell_type": "code",
   "execution_count": 3,
   "metadata": {},
   "outputs": [],
   "source": [
    "box_model = fasterrcnn_resnet50_fpn(pretrained=True, progress=False)"
   ]
  },
  {
   "cell_type": "markdown",
   "metadata": {},
   "source": [
    "---\n",
    "\n",
    "## Reproduce on CPU"
   ]
  },
  {
   "cell_type": "code",
   "execution_count": 4,
   "metadata": {},
   "outputs": [],
   "source": [
    "xs = torch.rand(2, 3, 1080, 1920, dtype=torch.float32)"
   ]
  },
  {
   "cell_type": "code",
   "execution_count": 5,
   "metadata": {},
   "outputs": [],
   "source": [
    "ys = [\n",
    "    {\n",
    "        \"labels\": torch.tensor([1], dtype=torch.int64),\n",
    "        \"boxes\": torch.tensor([[956.0000, 316.3117, 1134.0000, 838.8275]], dtype=torch.float32),\n",
    "    },\n",
    "    {\n",
    "        \"labels\": torch.tensor([1], dtype=torch.int64),\n",
    "        \"boxes\": torch.tensor([[956.0000, 316.3117, 1134.0000, 838.8275]], dtype=torch.float32),\n",
    "    },\n",
    "]"
   ]
  },
  {
   "cell_type": "code",
   "execution_count": 6,
   "metadata": {},
   "outputs": [
    {
     "data": {
      "text/plain": [
       "[{'labels': tensor([1]),\n",
       "  'boxes': tensor([[ 956.0000,  316.3117, 1134.0000,  838.8275]])},\n",
       " {'labels': tensor([1]),\n",
       "  'boxes': tensor([[ 956.0000,  316.3117, 1134.0000,  838.8275]])}]"
      ]
     },
     "execution_count": 6,
     "metadata": {},
     "output_type": "execute_result"
    }
   ],
   "source": [
    "ys"
   ]
  },
  {
   "cell_type": "code",
   "execution_count": 7,
   "metadata": {},
   "outputs": [
    {
     "data": {
      "text/plain": [
       "{'loss_classifier': tensor(0.0447, grad_fn=<NllLossBackward>),\n",
       " 'loss_box_reg': tensor(0.0080, grad_fn=<DivBackward0>),\n",
       " 'loss_objectness': tensor(0.0492, grad_fn=<BinaryCrossEntropyWithLogitsBackward>),\n",
       " 'loss_rpn_box_reg': tensor(0.0049, grad_fn=<DivBackward0>)}"
      ]
     },
     "execution_count": 7,
     "metadata": {},
     "output_type": "execute_result"
    }
   ],
   "source": [
    "box_model(xs, ys)"
   ]
  },
  {
   "cell_type": "markdown",
   "metadata": {},
   "source": [
    "---\n",
    "\n",
    "## On GPU"
   ]
  },
  {
   "cell_type": "code",
   "execution_count": 8,
   "metadata": {},
   "outputs": [],
   "source": [
    "xs = torch.rand(2, 3, 1080, 1920, dtype=torch.float32).cuda()"
   ]
  },
  {
   "cell_type": "code",
   "execution_count": 9,
   "metadata": {},
   "outputs": [],
   "source": [
    "ys = [\n",
    "    {\n",
    "        \"labels\": torch.tensor([1], dtype=torch.int64).cuda(),\n",
    "        \"boxes\": torch.tensor([[956.0000, 316.3117, 1134.0000, 838.8275]], dtype=torch.float32).cuda(),\n",
    "    },\n",
    "    {\n",
    "        \"labels\": torch.tensor([1], dtype=torch.int64).cuda(),\n",
    "        \"boxes\": torch.tensor([[956.0000, 316.3117, 1134.0000, 838.8275]], dtype=torch.float32).cuda(),\n",
    "    },\n",
    "]"
   ]
  },
  {
   "cell_type": "code",
   "execution_count": 10,
   "metadata": {},
   "outputs": [
    {
     "data": {
      "text/plain": [
       "[{'labels': tensor([1], device='cuda:0'),\n",
       "  'boxes': tensor([[ 956.0000,  316.3117, 1134.0000,  838.8275]], device='cuda:0')},\n",
       " {'labels': tensor([1], device='cuda:0'),\n",
       "  'boxes': tensor([[ 956.0000,  316.3117, 1134.0000,  838.8275]], device='cuda:0')}]"
      ]
     },
     "execution_count": 10,
     "metadata": {},
     "output_type": "execute_result"
    }
   ],
   "source": [
    "ys"
   ]
  },
  {
   "cell_type": "code",
   "execution_count": 11,
   "metadata": {},
   "outputs": [],
   "source": [
    "box_model = box_model.cuda()"
   ]
  },
  {
   "cell_type": "code",
   "execution_count": 12,
   "metadata": {},
   "outputs": [
    {
     "data": {
      "text/plain": [
       "{'loss_classifier': tensor(0.0441, device='cuda:0', grad_fn=<NllLossBackward>),\n",
       " 'loss_box_reg': tensor(0.0081, device='cuda:0', grad_fn=<DivBackward0>),\n",
       " 'loss_objectness': tensor(0.0523, device='cuda:0', grad_fn=<BinaryCrossEntropyWithLogitsBackward>),\n",
       " 'loss_rpn_box_reg': tensor(0.0047, device='cuda:0', grad_fn=<DivBackward0>)}"
      ]
     },
     "execution_count": 12,
     "metadata": {},
     "output_type": "execute_result"
    }
   ],
   "source": [
    "box_model(xs, ys)"
   ]
  },
  {
   "cell_type": "code",
   "execution_count": null,
   "metadata": {},
   "outputs": [],
   "source": []
  }
 ],
 "metadata": {
  "kernelspec": {
   "display_name": "torch",
   "language": "python",
   "name": "torch"
  },
  "language_info": {
   "codemirror_mode": {
    "name": "ipython",
    "version": 3
   },
   "file_extension": ".py",
   "mimetype": "text/x-python",
   "name": "python",
   "nbconvert_exporter": "python",
   "pygments_lexer": "ipython3",
   "version": "3.7.9"
  }
 },
 "nbformat": 4,
 "nbformat_minor": 4
}
